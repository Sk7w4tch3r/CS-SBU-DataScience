{
 "cells": [
  {
   "cell_type": "markdown",
   "source": [
    "<div dir=\"rtl\">\n",
    "    <h1>\n",
    "        01 - دوره علم داده\n",
    "    </h1><br>\n",
    "    استاد درس: دکتر سعیدرضا خرد پیشه، دانشکده علوم ریاضی، دانشگاه شهید بهشتی\n",
    "    <br>\n",
    "    برای اطلاعات بیشتر به وبسایت درس مراجعه کنید.\n",
    "    <br>\n",
    "</div>"
   ],
   "metadata": {}
  },
  {
   "cell_type": "markdown",
   "source": [
    "<div dir='rtl'>\n",
    "    <h1>\n",
    "    موضوعات درس اول   \n",
    "    </h1>\n",
    "    <ul>\n",
    "        <li>\n",
    "            بخش 1.1: دورنمای دوره\n",
    "        </li>\n",
    "        <li><b>\n",
    "            بخش 1.2: آشنایی با انواع یادگیری\n",
    "            <ul>\n",
    "                <li>نظارتی</li>\n",
    "                <li>بدون نظارت</li>\n",
    "                <li>تقویتی</li>\n",
    "                <li>نیمه-نظارتی</li>\n",
    "            </ul>\n",
    "        </b></li>\n",
    "        <li>\n",
    "            بخش 1.3: یادگیری عمیق چیست\n",
    "            <ul>\n",
    "                <li>انواع مسائل در یادگیری عمیق</li>\n",
    "                <li>نورون ها و لایه ها</li>\n",
    "                <li>بایاس و اهمیت آن</li>\n",
    "                <li>یادگیری در نورون ها</li>\n",
    "            </ul>\n",
    "        </li>\n",
    "        <li>\n",
    "            بخش 1.4: کاربرد های یادگیری عمیق\n",
    "        </li>        \n",
    "        <li>\n",
    "            بخش 1.5: \n",
    "        </li>\n",
    "    </ul>\n",
    "</div>"
   ],
   "metadata": {}
  },
  {
   "cell_type": "markdown",
   "source": [
    "<div dir=\"rtl\">\n",
    "    <h1>\n",
    "        آشنایی با انواع یادگیری\n",
    "    </h1><br>    \n",
    "    امروزه به طور کلی یادگیری عمیق به سه دسته نظارتی، غیر نظارتی و تقویتی تقسیم می شود.\n",
    "    <br>\n",
    "</div>"
   ],
   "metadata": {}
  }
 ],
 "metadata": {
  "kernelspec": {
   "display_name": "Python 3",
   "language": "python",
   "name": "python3"
  },
  "language_info": {
   "codemirror_mode": {
    "name": "ipython",
    "version": 3
   },
   "file_extension": ".py",
   "mimetype": "text/x-python",
   "name": "python",
   "nbconvert_exporter": "python",
   "pygments_lexer": "ipython3",
   "version": "3.9.1"
  }
 },
 "nbformat": 4,
 "nbformat_minor": 2
}