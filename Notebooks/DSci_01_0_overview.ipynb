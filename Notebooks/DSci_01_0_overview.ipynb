{
 "cells": [
  {
   "cell_type": "markdown",
   "source": [
    "<div dir=\"rtl\">\n",
    "    <h1>\n",
    "        01 - دوره علم داده\n",
    "    </h1><br>\n",
    "    استاد درس: دکتر سعیدرضا خرد پیشه، دانشکده علوم ریاضی، دانشگاه شهید بهشتی\n",
    "    <br>\n",
    "    برای اطلاعات بیشتر به وبسایت درس مراجعه کنید.\n",
    "    <br>\n",
    "</div>"
   ],
   "metadata": {}
  },
  {
   "cell_type": "markdown",
   "source": [
    "<div dir='rtl'>\n",
    "    <h1>\n",
    "    موضوعات درس اول   \n",
    "    </h1>\n",
    "    <ul>\n",
    "        <li><b>\n",
    "            بخش 1.1: دورنمای دوره\n",
    "        </b></li>\n",
    "        <li>\n",
    "            بخش 1.2: آشنایی با انواع یادگیری\n",
    "            <ul>\n",
    "                <li>نظارتی</li>\n",
    "                <li>بدون نظارت</li>\n",
    "                <li>تقویتی</li>\n",
    "                <li>نیمه-نظارتی</li>\n",
    "            </ul>\n",
    "        </li>\n",
    "        <li>\n",
    "            بخش 1.3: یادگیری عمیق چیست\n",
    "            <ul>\n",
    "                <li>انواع مسائل در یادگیری عمیق</li>\n",
    "                <li>نورون ها و لایه ها</li>\n",
    "                <li>بایاس و اهمیت آن</li>\n",
    "                <li>یادگیری در نورون ها</li>\n",
    "            </ul>\n",
    "        </li>\n",
    "        <li>\n",
    "            بخش 1.4: کاربرد های یادگیری عمیق\n",
    "        </li>        \n",
    "        <li>\n",
    "            بخش 1.5: \n",
    "        </li>\n",
    "    </ul>\n",
    "</div>"
   ],
   "metadata": {}
  },
  {
   "cell_type": "markdown",
   "source": [
    "<div dir=\"rtl\">\n",
    "    <h1>\n",
    "        منابع دوره:\n",
    "    </h1><br>\n",
    "    <ul>\n",
    "        <li>یک</li>\n",
    "        <li>دو</li>\n",
    "        <li>سه</li>\n",
    "    </ul>\n",
    "    <br>\n",
    "</div>"
   ],
   "metadata": {}
  },
  {
   "cell_type": "markdown",
   "source": [
    "<div dir=\"rtl\">\n",
    "    <h1>\n",
    "        بارم بندی و تمرین ها\n",
    "    </h1><br>    \n",
    "    در طول این دوره در حین هر یک از درس ها، تمرین مربوط به آن درس در اختیار شما قرار خواهد گرفت.\n",
    "    <h2>\n",
    "    بارم بندی:\n",
    "    </h2>\n",
    "    <table>\n",
    "      <tr>\n",
    "        <th>تکلیف</th>\n",
    "        <th>بارم</th>\n",
    "        <th>توضیح</th>\n",
    "      </tr>\n",
    "      <tr>\n",
    "        <td>تمرین اول</td>\n",
    "        <td>20%</td>\n",
    "        <td>توضیحات</td>\n",
    "      </tr>\n",
    "      <tr>\n",
    "        <td>تمرین دوم</td>\n",
    "        <td>20%</td>\n",
    "        <td>توضیحات</td>\n",
    "      </tr>\n",
    "      <tr>\n",
    "        <td>تمرین سوم</td>\n",
    "        <td>20%</td>\n",
    "        <td>توضیحات</td>\n",
    "      </tr>\n",
    "    </table>\n",
    "    <h1>\n",
    "    تمرین های دوره:   \n",
    "    </h1>\n",
    "    <ul>\n",
    "        <li>تمرین های درس یک</li>\n",
    "        <li>تمرین های درس دو</li>\n",
    "        <li>تمرین های درس سه</li>\n",
    "    </ul>\n",
    "    <br>\n",
    "</div>"
   ],
   "metadata": {}
  },
  {
   "cell_type": "markdown",
   "source": [
    "<div dir=\"rtl\">\n",
    "    <h1>\n",
    "        مجریان دوره:\n",
    "    </h1><br>\n",
    "    استاد درس: دکتر سعیدرضا خرد پیشه\n",
    "    <br>\n",
    "    دستیاران آموزشی:\n",
    "    <ul>\n",
    "        <li>یک</li>\n",
    "        <li>دو</li>\n",
    "        <li>سه</li>\n",
    "    </ul>\n",
    "    <br>\n",
    "</div>"
   ],
   "metadata": {}
  }
 ],
 "metadata": {
  "kernelspec": {
   "display_name": "Python 3",
   "language": "python",
   "name": "python3"
  },
  "language_info": {
   "codemirror_mode": {
    "name": "ipython",
    "version": 3
   },
   "file_extension": ".py",
   "mimetype": "text/x-python",
   "name": "python",
   "nbconvert_exporter": "python",
   "pygments_lexer": "ipython3",
   "version": "3.9.1"
  }
 },
 "nbformat": 4,
 "nbformat_minor": 2
}